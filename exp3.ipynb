import numpy as np
import pandas as pd
from sklearn.datasets import load_iris
from sklearn.decomposition import PCA
import matplotlib.pyplot as plt
import seaborn as sns
from sklearn.preprocessing import StandardScaler


iris = load_iris()
data = pd.DataFrame(iris.data, columns=iris.feature_names)
data['species']= iris.target
print("iris dataset overview")
print(data.head())

scaler = StandardScaler()
scaled_data = scaler.fit_transform(data.iloc[:,:-1])

pca = PCA(n_components=2)
pca_data = pca.fit_transform(scaled_data)


pca_df = pd.DataFrame(data=pca_data, columns=['Principal Component 1','Principal Component 2'])
pca_df['species'] = data['species']

print("Explained variance ratio by each principal component:")
print(pca.explained_variance_ratio_)

plt.figure(figsize=(10,7))
sns.scatterplot(
    x='Principal Component 1',
    y='Principal Component 2',
    hue='species',
    palette='Set1',
    data=pca_df,
    s=100
)
plt.title('PCA on Iris Dataset')
plt.xlabel('Principal Component 1')
plt.ylabel('Principal Component 2')
plt.legend(title='Species')
plt.grid(alpha=0.3)
plt.show()
